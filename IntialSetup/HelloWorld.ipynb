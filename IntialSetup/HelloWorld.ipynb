{
 "cells": [
  {
   "cell_type": "markdown",
   "metadata": {},
   "source": [
    "Import the required Packages"
   ]
  },
  {
   "cell_type": "code",
   "execution_count": null,
   "metadata": {},
   "outputs": [],
   "source": [
    "import os\n",
    "from dotenv import load_dotenv\n",
    "from langchain_openai.chat_models import ChatOpenAI\n",
    "from langchain_core.output_parsers import StrOutputParser\n",
    "from langchain_core.prompts import PromptTemplate"
   ]
  },
  {
   "cell_type": "markdown",
   "metadata": {},
   "source": [
    "Read the configuration data "
   ]
  },
  {
   "cell_type": "code",
   "execution_count": 12,
   "metadata": {},
   "outputs": [
    {
     "name": "stdout",
     "output_type": "stream",
     "text": [
      "http://192.168.68.109:8088/v1\n",
      "lmstudio-community/phi-4-GGUF\n"
     ]
    }
   ],
   "source": [
    "load_dotenv()\n",
    "OPENAI_API_BASE = os.getenv(\"OPENAI_API_BASE\")\n",
    "MODEL = os.getenv(\"LMMODEL\")\n",
    "\n",
    "print(OPENAI_API_BASE)\n",
    "print(MODEL)"
   ]
  },
  {
   "cell_type": "markdown",
   "metadata": {},
   "source": [
    "Initiate the Model Connection"
   ]
  },
  {
   "cell_type": "code",
   "execution_count": 13,
   "metadata": {},
   "outputs": [],
   "source": [
    "llm_model = ChatOpenAI(openai_api_base=OPENAI_API_BASE, model=MODEL)"
   ]
  },
  {
   "cell_type": "code",
   "execution_count": 14,
   "metadata": {},
   "outputs": [],
   "source": [
    "template = \"\"\"What is the capital of {country}\"\"\""
   ]
  },
  {
   "cell_type": "code",
   "execution_count": 15,
   "metadata": {},
   "outputs": [
    {
     "name": "stdout",
     "output_type": "stream",
     "text": [
      "content='The capital of India is New Delhi. It serves as the seat of all three branches of the Government of India, hosting important governmental institutions and embassies. New Delhi was declared the capital in 1911, replacing Calcutta (now Kolkata). The city is part of a larger metropolitan area known as Delhi.' additional_kwargs={'refusal': None} response_metadata={'token_usage': {'completion_tokens': 64, 'prompt_tokens': 13, 'total_tokens': 77, 'completion_tokens_details': None, 'prompt_tokens_details': None}, 'model_name': 'phi-4', 'system_fingerprint': 'phi-4', 'finish_reason': 'stop', 'logprobs': None} id='run-8473cde9-0f91-45c7-bdaa-13e1426d60ee-0' usage_metadata={'input_tokens': 13, 'output_tokens': 64, 'total_tokens': 77, 'input_token_details': {}, 'output_token_details': {}}\n"
     ]
    }
   ],
   "source": [
    "prompt = PromptTemplate.from_template(template)\n",
    "chain = prompt | llm_model \n",
    "result = chain.invoke(input=\"India\")\n",
    "print(result)"
   ]
  },
  {
   "cell_type": "code",
   "execution_count": 16,
   "metadata": {},
   "outputs": [
    {
     "name": "stdout",
     "output_type": "stream",
     "text": [
      "The capital of India is New Delhi. It serves as the seat of all three branches of the Government of India, hosting the Rashtrapati Bhavan (Presidential Residence), Parliament House, and the Supreme Court of India, among other key institutions. New Delhi is part of the larger National Capital Territory of Delhi.\n"
     ]
    }
   ],
   "source": [
    "parser = StrOutputParser()\n",
    "chain = prompt | llm_model | parser\n",
    "result = chain.invoke(input=\"India\")\n",
    "print(result)"
   ]
  },
  {
   "cell_type": "markdown",
   "metadata": {},
   "source": [
    "Few More examples"
   ]
  },
  {
   "cell_type": "code",
   "execution_count": 26,
   "metadata": {},
   "outputs": [],
   "source": [
    "template = \"Please explain {topic} in simple terms.\"\n",
    "\n",
    "prompt = PromptTemplate.from_template(template)"
   ]
  },
  {
   "cell_type": "code",
   "execution_count": 27,
   "metadata": {},
   "outputs": [
    {
     "name": "stdout",
     "output_type": "stream",
     "text": [
      "Generative AI refers to a type of artificial intelligence that is capable of creating new content or data based on patterns it has learned from existing examples. Here's a simplified explanation:\n",
      "\n",
      "1. **Learning from Data**: Generative AI models are trained using large datasets, where they learn the underlying patterns and structures in the information. For example, an AI might be trained on millions of images to understand what different objects look like.\n",
      "\n",
      "2. **Generating New Content**: Once trained, these models can generate new content that resembles the data they were trained on. This could include creating images, writing text, composing music, or even generating code. The generated output is not a copy but a novel creation inspired by the learned patterns.\n",
      "\n",
      "3. **Common Applications**:\n",
      "   - **Text Generation**: AI models like GPT can write essays, stories, or chat in conversations.\n",
      "   - **Image Creation**: Models like DALL-E can generate images from textual descriptions.\n",
      "   - **Music Composition**: Some AIs can create new music pieces by learning styles and structures from existing compositions.\n",
      "\n",
      "4. **Underlying Technology**: These capabilities are often powered by neural networks, particularly deep learning models such as Generative Adversarial Networks (GANs) or Transformers.\n",
      "\n",
      "5. **Creativity with Limits**: While generative AI can produce impressive results, it's important to remember that its creativity is bounded by the data it was trained on and the instructions given during generation.\n",
      "\n",
      "In essence, generative AI helps automate creative processes, producing outputs that are innovative yet rooted in existing knowledge learned from vast amounts of data.\n"
     ]
    }
   ],
   "source": [
    "\n",
    "chain = prompt | llm_model | parser\n",
    "result = chain.invoke(input=\"Generative AI\")\n",
    "print(result)"
   ]
  }
 ],
 "metadata": {
  "kernelspec": {
   "display_name": ".venv",
   "language": "python",
   "name": "python3"
  },
  "language_info": {
   "codemirror_mode": {
    "name": "ipython",
    "version": 3
   },
   "file_extension": ".py",
   "mimetype": "text/x-python",
   "name": "python",
   "nbconvert_exporter": "python",
   "pygments_lexer": "ipython3",
   "version": "3.13.2"
  }
 },
 "nbformat": 4,
 "nbformat_minor": 2
}
