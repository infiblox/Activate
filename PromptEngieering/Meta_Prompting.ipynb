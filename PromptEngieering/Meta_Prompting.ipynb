{
 "cells": [
  {
   "cell_type": "markdown",
   "metadata": {},
   "source": [
    "Meta Prompting\n",
    "\n",
    "    Meta prompting is a technique where one Language Model (LLM) is used to generate or optimise prompts for another Language Model."
   ]
  },
  {
   "cell_type": "code",
   "execution_count": null,
   "metadata": {},
   "outputs": [],
   "source": [
    "\n",
    "\n",
    "import os\n",
    "from openai import OpenAI\n",
    "from dotenv import load_dotenv\n",
    "\n",
    "load_dotenv()\n",
    "\n",
    "OPENAI_API_BASE = os.getenv(\"OPENAI_API_BASE\")\n",
    "OPENAI_API_KEY = os.getenv(\"OPENAI_API_KEY\")\n",
    "MODEL = os.getenv(\"MODEL\")\n",
    "\n",
    "simple_prompt = \"Summarize this news article: {article}\"\n",
    "\n",
    "meta_prompt = \"\"\"\n",
    "Improve the following prompt to generate a more detailed summary. \n",
    "Adhere to prompt engineering best practices. \n",
    "Make sure the structure is clear and intuitive and contains the type of news, tags and sentiment analysis.\n",
    "\n",
    "{simple_prompt}\n",
    "\n",
    "Only return the prompt.\n",
    "\"\"\"\n",
    "#print (simple_prompt.format(article = article))\n",
    "\n",
    "prompt_system = meta_prompt.format(simple_prompt=simple_prompt)\n",
    "\n",
    "userinput = \"indian sports\"\n",
    "\n",
    "\n",
    "client = OpenAI(base_url=OPENAI_API_BASE, api_key=OPENAI_API_KEY)\n",
    "\n",
    "response = client.chat.completions.create(model=MODEL, \n",
    "                                        messages=[\n",
    "                                            {\"role\": \"system\", \"content\": prompt_system}, \n",
    "                                            {\"role\": \"user\", \"content\": userinput}])\n",
    "\n",
    "print(response.choices[0].message.content)\n",
    "\n"
   ]
  }
 ],
 "metadata": {
  "kernelspec": {
   "display_name": ".venv",
   "language": "python",
   "name": "python3"
  },
  "language_info": {
   "codemirror_mode": {
    "name": "ipython",
    "version": 3
   },
   "file_extension": ".py",
   "mimetype": "text/x-python",
   "name": "python",
   "nbconvert_exporter": "python",
   "pygments_lexer": "ipython3",
   "version": "3.12.4"
  }
 },
 "nbformat": 4,
 "nbformat_minor": 2
}
