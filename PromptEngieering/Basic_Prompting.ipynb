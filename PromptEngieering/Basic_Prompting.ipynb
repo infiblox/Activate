{
 "cells": [
  {
   "cell_type": "markdown",
   "metadata": {},
   "source": [
    "Basic Prompting"
   ]
  },
  {
   "cell_type": "code",
   "execution_count": 2,
   "metadata": {},
   "outputs": [
    {
     "name": "stdout",
     "output_type": "stream",
     "text": [
      "ChatCompletion(id='chatcmpl-s63lhll4sfpxge7xj3359', choices=[Choice(finish_reason='stop', index=0, logprobs=None, message=ChatCompletionMessage(content='...Australia in the ICC World Cup semi-finals at Eden Gardens in Kolkata. The Indian team, led by Rohit Sharma, was determined to make history and secure their spot in the final against England. The crowd was electric as the players took to the field for a thrilling showdown.', refusal=None, role='assistant', audio=None, function_call=None, tool_calls=None))], created=1739101847, model='meta-llama-3.1-8b-instruct', object='chat.completion', service_tier=None, system_fingerprint='meta-llama-3.1-8b-instruct', usage=CompletionUsage(completion_tokens=56, prompt_tokens=75, total_tokens=131, completion_tokens_details=None, prompt_tokens_details=None))\n"
     ]
    }
   ],
   "source": [
    "import os\n",
    "from openai import OpenAI\n",
    "from dotenv import load_dotenv\n",
    "\n",
    "load_dotenv()\n",
    "\n",
    "OPENAI_API_BASE = os.getenv(\"OPENAI_API_BASE\")\n",
    "OPENAI_API_KEY = os.getenv(\"OPENAI_API_KEY\")\n",
    "MODEL = os.getenv(\"MODEL\")\n",
    "\n",
    "prompt_system = \"You are a helpful assistant whose goal is to complete the stories.\"\n",
    "userinput = \"\"\"Continue the following story. should not be more than 50 words. \\n\\n it was a great sunday, where india playing againts \"\"\"\n",
    "\n",
    "\n",
    "client = OpenAI(base_url=OPENAI_API_BASE, api_key=OPENAI_API_KEY)\n",
    "\n",
    "response = client.chat.completions.create(model=MODEL, \n",
    "                                        messages=[\n",
    "                                            {\"role\": \"system\", \"content\": prompt_system}, \n",
    "                                            {\"role\": \"user\", \"content\": userinput}])\n",
    "\n",
    "print(response)"
   ]
  },
  {
   "cell_type": "markdown",
   "metadata": {},
   "source": [
    "Elements of a Prompt :\n",
    "\n",
    "    A prompt contains any of the following elements:\n",
    "\n",
    "    Instruction - a specific task or instruction you want the model to perform\n",
    "\n",
    "    Context - external information or additional context that can steer the model to better responses\n",
    "\n",
    "    Input Data - the input or question that we are interested to find a response for\n",
    "\n",
    "    Output Indicator - the type or format of the output."
   ]
  }
 ],
 "metadata": {
  "kernelspec": {
   "display_name": ".venv",
   "language": "python",
   "name": "python3"
  },
  "language_info": {
   "codemirror_mode": {
    "name": "ipython",
    "version": 3
   },
   "file_extension": ".py",
   "mimetype": "text/x-python",
   "name": "python",
   "nbconvert_exporter": "python",
   "pygments_lexer": "ipython3",
   "version": "3.13.1"
  }
 },
 "nbformat": 4,
 "nbformat_minor": 2
}
