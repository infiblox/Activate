{
 "cells": [
  {
   "cell_type": "markdown",
   "metadata": {},
   "source": [
    "Zero-Shot Prompting"
   ]
  },
  {
   "cell_type": "code",
   "execution_count": 3,
   "metadata": {},
   "outputs": [
    {
     "name": "stdout",
     "output_type": "stream",
     "text": [
      "ChatCompletion(id='chatcmpl-b3l9umodo4aj2y9k26wz2', choices=[Choice(finish_reason='stop', index=0, logprobs=None, message=ChatCompletionMessage(content='...England in the World Cup at Wankhede Stadium in Mumbai. The Indian team was on fire, with Rohit Sharma scoring a century and Ravindra Jadeja taking three wickets. As India won by 100 runs, the crowd erupted in cheers and chants of \"Hindustan Zindabad!\"', refusal=None, role='assistant', audio=None, function_call=None, tool_calls=None))], created=1739101739, model='meta-llama-3.1-8b-instruct', object='chat.completion', service_tier=None, system_fingerprint='meta-llama-3.1-8b-instruct', usage=CompletionUsage(completion_tokens=65, prompt_tokens=75, total_tokens=140, completion_tokens_details=None, prompt_tokens_details=None))\n"
     ]
    }
   ],
   "source": [
    "import os\n",
    "from openai import OpenAI\n",
    "from dotenv import load_dotenv\n",
    "\n",
    "load_dotenv()\n",
    "\n",
    "OPENAI_API_BASE = os.getenv(\"OPENAI_API_BASE\")\n",
    "OPENAI_API_KEY = os.getenv(\"OPENAI_API_KEY\")\n",
    "\n",
    "prompt_system = \"You are a helpful assistant whose goal is to complete the stories.\"\n",
    "userinput = \"\"\"Continue the following story. should not be more than 50 words. \\n\\n it was a great sunday, where india playing againts \"\"\"\n",
    "\n",
    "\n",
    "client = OpenAI(base_url=OPENAI_API_BASE, api_key=OPENAI_API_KEY)\n",
    "\n",
    "response = client.chat.completions.create(model=\"lmstudio-community/Meta-Llama-3.1-8B-Instruct-GGUF\", \n",
    "                                        messages=[\n",
    "                                            {\"role\": \"system\", \"content\": prompt_system}, \n",
    "                                            {\"role\": \"user\", \"content\": userinput}])\n",
    "\n",
    "print(response)"
   ]
  },
  {
   "cell_type": "code",
   "execution_count": 2,
   "metadata": {},
   "outputs": [
    {
     "name": "stdout",
     "output_type": "stream",
     "text": [
      "I would classify this statement as:\n",
      "\n",
      "**Neutral/Informal Opinion**\n",
      "\n",
      "This classification is due to the brief and somewhat casual nature of the statement, which expresses a lukewarm opinion about a vacation. The tone is not particularly positive or negative, but rather average or unenthusiastic.\n"
     ]
    }
   ],
   "source": [
    "import os\n",
    "from openai import OpenAI\n",
    "from dotenv import load_dotenv\n",
    "\n",
    "load_dotenv()\n",
    "\n",
    "OPENAI_API_BASE = os.getenv(\"OPENAI_API_BASE\")\n",
    "OPENAI_API_KEY = os.getenv(\"OPENAI_API_KEY\")\n",
    "MODEL = os.getenv(\"MODEL\")\n",
    "\n",
    "prompt_system = \"You are a helpful assistant whose goal is to Classify the text.\"\n",
    "userinput = \"\"\"I think the vacation is okay.\"\"\"\n",
    "\n",
    "\n",
    "client = OpenAI(base_url=OPENAI_API_BASE, api_key=OPENAI_API_KEY)\n",
    "\n",
    "response = client.chat.completions.create(model=MODEL, \n",
    "                                        messages=[\n",
    "                                            {\"role\": \"system\", \"content\": prompt_system}, \n",
    "                                            {\"role\": \"user\", \"content\": userinput}])\n",
    "\n",
    "print(response.choices[0].message.content)"
   ]
  }
 ],
 "metadata": {
  "kernelspec": {
   "display_name": ".venv",
   "language": "python",
   "name": "python3"
  },
  "language_info": {
   "codemirror_mode": {
    "name": "ipython",
    "version": 3
   },
   "file_extension": ".py",
   "mimetype": "text/x-python",
   "name": "python",
   "nbconvert_exporter": "python",
   "pygments_lexer": "ipython3",
   "version": "3.13.1"
  }
 },
 "nbformat": 4,
 "nbformat_minor": 2
}
