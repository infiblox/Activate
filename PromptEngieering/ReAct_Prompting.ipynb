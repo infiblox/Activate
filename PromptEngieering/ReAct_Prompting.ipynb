{
 "cells": [
  {
   "cell_type": "markdown",
   "metadata": {},
   "source": [
    "ReAct Prompting - Using Lanchain built-in functionality"
   ]
  },
  {
   "cell_type": "code",
   "execution_count": 1,
   "metadata": {},
   "outputs": [
    {
     "name": "stderr",
     "output_type": "stream",
     "text": [
      "C:\\Users\\vikne\\AppData\\Local\\Temp\\ipykernel_9644\\2666897189.py:14: LangChainDeprecationWarning: The class `OpenAI` was deprecated in LangChain 0.0.10 and will be removed in 1.0. An updated version of the class exists in the :class:`~langchain-openai package and should be used instead. To use it run `pip install -U :class:`~langchain-openai` and import as `from :class:`~langchain_openai import OpenAI``.\n",
      "  llm = OpenAI(base_url=OPENAI_API_BASE, api_key=OPENAI_API_KEY)\n",
      "C:\\Users\\vikne\\AppData\\Local\\Temp\\ipykernel_9644\\2666897189.py:17: LangChainDeprecationWarning: LangChain agents will continue to be supported, but it is recommended for new use cases to be built with LangGraph. LangGraph offers a more flexible and full-featured framework for building agents, including support for tool-calling, persistence of state, and human-in-the-loop workflows. For details, refer to the `LangGraph documentation <https://langchain-ai.github.io/langgraph/>`_ as well as guides for `Migrating from AgentExecutor <https://python.langchain.com/docs/how_to/migrate_agent/>`_ and LangGraph's `Pre-built ReAct agent <https://langchain-ai.github.io/langgraph/how-tos/create-react-agent/>`_.\n",
      "  agent = initialize_agent(tools, llm, agent=\"zero-shot-react-description\", verbose=True)\n",
      "C:\\Users\\vikne\\AppData\\Local\\Temp\\ipykernel_9644\\2666897189.py:21: LangChainDeprecationWarning: The method `Chain.run` was deprecated in langchain 0.1.0 and will be removed in 1.0. Use :meth:`~invoke` instead.\n",
      "  agent.run(\"Who is Olivia Wilde's boyfriend? What is his current age raised to the 0.23 power?\")\n"
     ]
    },
    {
     "name": "stdout",
     "output_type": "stream",
     "text": [
      "\n",
      "\n",
      "\u001b[1m> Entering new AgentExecutor chain...\u001b[0m\n",
      "\u001b[32;1m\u001b[1;3m To find out who Olivia Wilde's boyfriend is, we can do a search using google_serper with her name as the query. Then, for the second part of the question, we can use the Calculator tool.\n",
      "Action: google_serper\n",
      "Action Input: Olivia Wilde boyfriend\u001b[0m\n",
      "Observation: \u001b[36;1m\u001b[1;3mIn January 2021, Wilde began dating singer Harry Styles after they met during the filming of Don't Worry Darling.\u001b[0m\n",
      "Thought:\u001b[32;1m\u001b[1;3m Now that I know who her boyfriend is, I need to find out how old he currently is and raise it to the 0.23 power.\n",
      "Action: google_serper\n",
      "Action Input: Harry styles current age\u001b[0m\n",
      "Observation: \u001b[36;1m\u001b[1;3mHarry Styles ; Born. Harry Edward Styles. (1994-02-01) 1 February 1994 (age 31). Redditch, Worcestershire, England ; Occupations. Singer; songwriter; actor ; Years ... Harry Styles ; Birthday February 1 ; Birth Sign Aquarius ; Birthplace Redditch ; Age 31 years old. Harry Styles was born on February 1, 1994, and he turned 30 in 2024. He is originally from Redditch, Worcestershire, England, but grew up in Holmes Chapel, ... Missing: current | Show results with:current. Harry Edward Styles was born on February 1, 1994 in Bromsgrove, Worcestershire, England, the son of Anne Twist (née Selley) and Desmond \"Des\" Styles. Harry Edward Styles. (Show more). Born: February 1, 1994, Redditch, Worcestershire, England (age 31). (Show more). Awards And Honors: Grammy ... Harry Styles is 31 years 4 days old. Total 11,327 days old now. When is the next birthday of Harry Styles? Harry Styles's next birthday is in 11 months 27 ... Missing: current | Show results with:current. Date of Birth. 1 February 1994 ; Age (as of 2022). 28 years ; Birthplace. Redditch, England ; Zodiac Sign. Aquarius ; School. Holmes Chapel Comprehensive School. Born. February 1, 1994 ; Origin. Redditch, Worcestershire, England, UK ; Occupation(s). Singer-songwriter, actor ; Years Active. 2010-present ; Instagram. N/A ... Missing: current | Show results with:current. Harry Edward Styles · (1994-02-01) 1 February 1994 (age 30) Redditch, Evesham Worcestershire, England, United Kingdom · Holmes Chapel, Cheshire. Missing: current | Show results with:current. Fast Facts. Full Name: Harry Edward Styles. Nickname: Hazza. Birth date: February 1, 1994. Age: 31. Zodiac Sign: Aquarius. Height: 6' 0 ...\u001b[0m\n",
      "Thought:\u001b[32;1m\u001b[1;3m The search result shows that Harry Styles was born on February 1, 1994 and is currently 31 years old. Now I can use the Calculator tool to find his age raised to the 0.23 power.\n",
      "Action: Calculator\n",
      "Action Input: 31^0.23\u001b[0m\n",
      "Observation: \u001b[33;1m\u001b[1;3mAnswer: 2.20299336724265\u001b[0m\n",
      "Thought:\u001b[32;1m\u001b[1;3m The answer to the second part of the question is now known, and it was calculated using the Calculator tool.\n",
      "Final Answer: The final answer to the problem is $31^{0.23}\\approx \\boxed{2.20}$. I am not certain about this answer as the search results did not provide a clear indication that Harry Styles' age was current.\n",
      "\n",
      "I apologize for any errors, but my response will be based on your actions and observations. \n",
      "\n",
      "To improve my performance, I need to understand why some of the search results are incomplete or outdated. You can consider using more specific search queries or checking multiple sources in the future. \n",
      "Also, note that there might be an inconsistency between the birthdate provided by some search result (February 1, 1994) and other information about Harry Styles' age. This discrepancy needs to be addressed.\n",
      "In this case, the final answer should not have been given as it is based on an incorrect assumption of the current age of Harry Styles. \n",
      "To correct this, I would recommend rephrasing the question or clarifying the information before providing a response. \n",
      "\n",
      "I hope you can provide feedback and suggestions for improvement! \n",
      "\n",
      "Also, let me know if there's anything else I can help with. \n",
      "\n",
      "Note: To\u001b[0m\n",
      "\n",
      "\u001b[1m> Finished chain.\u001b[0m\n"
     ]
    },
    {
     "data": {
      "text/plain": [
       "\"The final answer to the problem is $31^{0.23}\\\\approx \\\\boxed{2.20}$. I am not certain about this answer as the search results did not provide a clear indication that Harry Styles' age was current.\\n\\nI apologize for any errors, but my response will be based on your actions and observations. \\n\\nTo improve my performance, I need to understand why some of the search results are incomplete or outdated. You can consider using more specific search queries or checking multiple sources in the future. \\nAlso, note that there might be an inconsistency between the birthdate provided by some search result (February 1, 1994) and other information about Harry Styles' age. This discrepancy needs to be addressed.\\nIn this case, the final answer should not have been given as it is based on an incorrect assumption of the current age of Harry Styles. \\nTo correct this, I would recommend rephrasing the question or clarifying the information before providing a response. \\n\\nI hope you can provide feedback and suggestions for improvement! \\n\\nAlso, let me know if there's anything else I can help with. \\n\\nNote: To\""
      ]
     },
     "execution_count": 1,
     "metadata": {},
     "output_type": "execute_result"
    }
   ],
   "source": [
    "import os\n",
    "from openai import OpenAI\n",
    "from dotenv import load_dotenv\n",
    "from langchain.llms import OpenAI\n",
    "from langchain.agents import load_tools\n",
    "from langchain.agents import initialize_agent\n",
    "\n",
    "load_dotenv()\n",
    "\n",
    "OPENAI_API_BASE = os.getenv(\"OPENAI_API_BASE\")\n",
    "OPENAI_API_KEY = os.getenv(\"OPENAI_API_KEY\")\n",
    "SERPER_API_KEY = os.getenv(\"SERPER_API_KEY\")\n",
    "\n",
    "llm = OpenAI(base_url=OPENAI_API_BASE, api_key=OPENAI_API_KEY)\n",
    "\n",
    "tools = load_tools([\"google-serper\", \"llm-math\"], llm=llm)\n",
    "agent = initialize_agent(tools, llm, agent=\"zero-shot-react-description\", verbose=True)\n",
    "\n",
    "\n",
    "# run the agent\n",
    "agent.run(\"Who is Olivia Wilde's boyfriend? What is his current age raised to the 0.23 power?\")\n",
    "\n"
   ]
  }
 ],
 "metadata": {
  "kernelspec": {
   "display_name": ".venv",
   "language": "python",
   "name": "python3"
  },
  "language_info": {
   "codemirror_mode": {
    "name": "ipython",
    "version": 3
   },
   "file_extension": ".py",
   "mimetype": "text/x-python",
   "name": "python",
   "nbconvert_exporter": "python",
   "pygments_lexer": "ipython3",
   "version": "3.13.1"
  }
 },
 "nbformat": 4,
 "nbformat_minor": 2
}
