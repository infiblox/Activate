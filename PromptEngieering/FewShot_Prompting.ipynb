{
 "cells": [
  {
   "cell_type": "markdown",
   "metadata": {},
   "source": [
    "Few-Shot Prompting"
   ]
  },
  {
   "cell_type": "code",
   "execution_count": 1,
   "metadata": {},
   "outputs": [
    {
     "name": "stdout",
     "output_type": "stream",
     "text": [
      "Classify the text Sentiment\n",
      "User: I think the vacation is a waste.\n",
      "Sentiment: Negative \n",
      "\n",
      "The word \"waste\" implies that the user did not enjoy or find value in their vacation, contributing to a negative sentiment.\n"
     ]
    }
   ],
   "source": [
    "import os\n",
    "from openai import OpenAI\n",
    "from dotenv import load_dotenv\n",
    "\n",
    "load_dotenv()\n",
    "\n",
    "OPENAI_API_BASE = os.getenv(\"OPENAI_API_BASE\")\n",
    "OPENAI_API_KEY = os.getenv(\"OPENAI_API_KEY\")\n",
    "MODEL = os.getenv(\"MODEL\")\n",
    "\n",
    "prompt_system = \"\"\"Classify the text Sentiment\n",
    "User: The service was terrible. \n",
    "Sentiment: Negative \n",
    "User: The staff was very friendly.\n",
    "Sentiment: Positive\"\"\"\n",
    "userinput = \"\"\"I think the vacation is waste.\"\"\"\n",
    "\n",
    "\n",
    "client = OpenAI(base_url=OPENAI_API_BASE, api_key=OPENAI_API_KEY)\n",
    "\n",
    "response = client.chat.completions.create(model=MODEL, \n",
    "                                        messages=[\n",
    "                                            {\"role\": \"system\", \"content\": prompt_system}, \n",
    "                                            {\"role\": \"user\", \"content\": userinput}])\n",
    "\n",
    "print(response.choices[0].message.content)"
   ]
  }
 ],
 "metadata": {
  "kernelspec": {
   "display_name": ".venv",
   "language": "python",
   "name": "python3"
  },
  "language_info": {
   "codemirror_mode": {
    "name": "ipython",
    "version": 3
   },
   "file_extension": ".py",
   "mimetype": "text/x-python",
   "name": "python",
   "nbconvert_exporter": "python",
   "pygments_lexer": "ipython3",
   "version": "3.13.1"
  }
 },
 "nbformat": 4,
 "nbformat_minor": 2
}
