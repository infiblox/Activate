{
 "cells": [
  {
   "cell_type": "markdown",
   "metadata": {},
   "source": [
    "Chain of Thoughts Prompting with Zero Shot"
   ]
  },
  {
   "cell_type": "code",
   "execution_count": 1,
   "metadata": {},
   "outputs": [
    {
     "name": "stdout",
     "output_type": "stream",
     "text": [
      "To find the sum of the odd numbers, we need to add 15, 5, 13, and 7.\n",
      "\n",
      "15 + 5 = 20\n",
      "20 + 13 = 33\n",
      "33 + 7 = 40\n",
      "\n",
      "The sum of the odd numbers is 40, which is an even number. \n",
      "\n",
      "So, The answer is True.\n"
     ]
    }
   ],
   "source": [
    "\n",
    "\n",
    "import os\n",
    "from openai import OpenAI\n",
    "from dotenv import load_dotenv\n",
    "\n",
    "load_dotenv()\n",
    "\n",
    "OPENAI_API_BASE = os.getenv(\"OPENAI_API_BASE\")\n",
    "OPENAI_API_KEY = os.getenv(\"OPENAI_API_KEY\")\n",
    "MODEL = os.getenv(\"MODEL\")\n",
    "\n",
    "prompt_system = '''The odd numbers in this group add up to an even number: 4, 8, 9, 15, 12, 2, 1.\n",
    "A: Adding all the odd numbers (9, 15, 1) gives 25. The answer is False..'''\n",
    "\n",
    "userinput = \"\"\"The odd numbers in this group add up to an even number: 15, 32, 5, 13, 82, 7, 1. \"\"\"\n",
    "\n",
    "\n",
    "client = OpenAI(base_url=OPENAI_API_BASE, api_key=OPENAI_API_KEY)\n",
    "\n",
    "response = client.chat.completions.create(model=MODEL, \n",
    "                                        messages=[\n",
    "                                            {\"role\": \"system\", \"content\": prompt_system}, \n",
    "                                            {\"role\": \"user\", \"content\": userinput}])\n",
    "\n",
    "print(response.choices[0].message.content)"
   ]
  },
  {
   "cell_type": "markdown",
   "metadata": {},
   "source": [
    "Chain of Thoughts Prompting with Few Shot"
   ]
  },
  {
   "cell_type": "code",
   "execution_count": 2,
   "metadata": {},
   "outputs": [
    {
     "name": "stdout",
     "output_type": "stream",
     "text": [
      "To find the solution, we need to add all the odd numbers in the given group.\n",
      "\n",
      "The odd numbers are: 15, 5, 13, 7, and 1.\n",
      "Adding these numbers together:\n",
      "15 + 5 = 20\n",
      "20 + 13 = 33\n",
      "33 + 7 = 40\n",
      "40 + 1 = 41\n",
      "\n",
      "Since 41 is an odd number, the statement \"The odd numbers in this group add up to an even number\" is False.\n"
     ]
    }
   ],
   "source": [
    "import os\n",
    "from openai import OpenAI\n",
    "from dotenv import load_dotenv\n",
    "\n",
    "load_dotenv()\n",
    "\n",
    "OPENAI_API_BASE = os.getenv(\"OPENAI_API_BASE\")\n",
    "OPENAI_API_KEY = os.getenv(\"OPENAI_API_KEY\")\n",
    "MODEL = os.getenv(\"MODEL\")\n",
    "\n",
    "prompt_system = '''The odd numbers in this group add up to an even number: 4, 8, 9, 15, 12, 2, 1.\n",
    "A: Adding all the odd numbers (9, 15, 1) gives 25. The answer is False.\n",
    "The odd numbers in this group add up to an even number: 17,  10, 19, 4, 8, 12, 24.\n",
    "A: Adding all the odd numbers (17, 19) gives 36. The answer is True.\n",
    "The odd numbers in this group add up to an even number: 16,  11, 14, 4, 8, 13, 24.\n",
    "A: Adding all the odd numbers (11, 13) gives 24. The answer is True.\n",
    "The odd numbers in this group add up to an even number: 17,  9, 10, 12, 13, 4, 2.\n",
    "A: Adding all the odd numbers (17, 9, 13) gives 39. The answer is False.'''\n",
    "\n",
    "userinput = \"\"\"The odd numbers in this group add up to an even number: 15, 32, 5, 13, 82, 7, 1. \"\"\"\n",
    "\n",
    "\n",
    "client = OpenAI(base_url=OPENAI_API_BASE, api_key=OPENAI_API_KEY)\n",
    "\n",
    "response = client.chat.completions.create(model=MODEL, \n",
    "                                        messages=[\n",
    "                                            {\"role\": \"system\", \"content\": prompt_system}, \n",
    "                                            {\"role\": \"user\", \"content\": userinput}])\n",
    "\n",
    "print(response.choices[0].message.content)"
   ]
  },
  {
   "cell_type": "markdown",
   "metadata": {},
   "source": [
    "Automatic Chain-of-Thought (Auto-CoT)"
   ]
  },
  {
   "cell_type": "code",
   "execution_count": null,
   "metadata": {},
   "outputs": [],
   "source": []
  }
 ],
 "metadata": {
  "kernelspec": {
   "display_name": ".venv",
   "language": "python",
   "name": "python3"
  },
  "language_info": {
   "codemirror_mode": {
    "name": "ipython",
    "version": 3
   },
   "file_extension": ".py",
   "mimetype": "text/x-python",
   "name": "python",
   "nbconvert_exporter": "python",
   "pygments_lexer": "ipython3",
   "version": "3.13.1"
  }
 },
 "nbformat": 4,
 "nbformat_minor": 2
}
